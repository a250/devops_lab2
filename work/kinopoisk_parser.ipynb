{
 "cells": [
  {
   "cell_type": "markdown",
   "id": "253ed124-3fec-4350-9b7f-fa5413a0f726",
   "metadata": {
    "jp-MarkdownHeadingCollapsed": true,
    "tags": []
   },
   "source": [
    "## Lab 1. Parsing code"
   ]
  },
  {
   "cell_type": "markdown",
   "id": "b08d3231-5cdb-4aa7-bbf4-cd3ef2592b65",
   "metadata": {},
   "source": [
    "#### add necessary librari"
   ]
  },
  {
   "cell_type": "code",
   "execution_count": 1,
   "id": "72053ce0-6e54-4e1d-9b46-34758a07ace9",
   "metadata": {
    "tags": []
   },
   "outputs": [
    {
     "name": "stdout",
     "output_type": "stream",
     "text": [
      "Collecting psycopg2-binary\n",
      "  Downloading psycopg2_binary-2.9.6-cp310-cp310-manylinux_2_17_x86_64.manylinux2014_x86_64.whl (3.0 MB)\n",
      "\u001b[2K     \u001b[90m━━━━━━━━━━━━━━━━━━━━━━━━━━━━━━━━━━━━━━━━\u001b[0m \u001b[32m3.0/3.0 MB\u001b[0m \u001b[31m8.4 MB/s\u001b[0m eta \u001b[36m0:00:00\u001b[0m:00:01\u001b[0m0:01\u001b[0m\n",
      "\u001b[?25hInstalling collected packages: psycopg2-binary\n",
      "Successfully installed psycopg2-binary-2.9.6\n",
      "Note: you may need to restart the kernel to use updated packages.\n"
     ]
    }
   ],
   "source": [
    "pip install psycopg2-binary"
   ]
  },
  {
   "cell_type": "code",
   "execution_count": 2,
   "id": "daff55ab-eb15-4d5d-ab19-dc87ef2acfe2",
   "metadata": {
    "tags": []
   },
   "outputs": [
    {
     "name": "stdout",
     "output_type": "stream",
     "text": [
      "Collecting pandas\n",
      "  Downloading pandas-2.0.0-cp310-cp310-manylinux_2_17_x86_64.manylinux2014_x86_64.whl (12.3 MB)\n",
      "\u001b[2K     \u001b[90m━━━━━━━━━━━━━━━━━━━━━━━━━━━━━━━━━━━━━━━━\u001b[0m \u001b[32m12.3/12.3 MB\u001b[0m \u001b[31m14.2 MB/s\u001b[0m eta \u001b[36m0:00:00\u001b[0m00:01\u001b[0m00:01\u001b[0m\n",
      "\u001b[?25hRequirement already satisfied: python-dateutil>=2.8.2 in /opt/conda/lib/python3.10/site-packages (from pandas) (2.8.2)\n",
      "Requirement already satisfied: pytz>=2020.1 in /opt/conda/lib/python3.10/site-packages (from pandas) (2022.7.1)\n",
      "Collecting numpy>=1.21.0\n",
      "  Downloading numpy-1.24.2-cp310-cp310-manylinux_2_17_x86_64.manylinux2014_x86_64.whl (17.3 MB)\n",
      "\u001b[2K     \u001b[90m━━━━━━━━━━━━━━━━━━━━━━━━━━━━━━━━━━━━━━━━\u001b[0m \u001b[32m17.3/17.3 MB\u001b[0m \u001b[31m9.7 MB/s\u001b[0m eta \u001b[36m0:00:00\u001b[0m:00:01\u001b[0m00:01\u001b[0m\n",
      "\u001b[?25hCollecting tzdata>=2022.1\n",
      "  Downloading tzdata-2023.3-py2.py3-none-any.whl (341 kB)\n",
      "\u001b[2K     \u001b[90m━━━━━━━━━━━━━━━━━━━━━━━━━━━━━━━━━━━━━━\u001b[0m \u001b[32m341.8/341.8 kB\u001b[0m \u001b[31m38.2 MB/s\u001b[0m eta \u001b[36m0:00:00\u001b[0m\n",
      "\u001b[?25hRequirement already satisfied: six>=1.5 in /opt/conda/lib/python3.10/site-packages (from python-dateutil>=2.8.2->pandas) (1.16.0)\n",
      "Installing collected packages: tzdata, numpy, pandas\n",
      "Successfully installed numpy-1.24.2 pandas-2.0.0 tzdata-2023.3\n"
     ]
    }
   ],
   "source": [
    "!pip install pandas"
   ]
  },
  {
   "cell_type": "markdown",
   "id": "9b0aec01-987f-4895-bb23-f70e4bf00798",
   "metadata": {},
   "source": [
    "#### Parser part"
   ]
  },
  {
   "cell_type": "code",
   "execution_count": 3,
   "id": "189b310c-629b-43da-8b98-46243d34c33b",
   "metadata": {
    "tags": []
   },
   "outputs": [],
   "source": [
    "import pandas as pd\n",
    "import json\n",
    "import warnings\n",
    "from typing import List\n",
    "import os\n",
    "\n",
    "import requests\n",
    "from bs4 import BeautifulSoup\n",
    "import pandas as pd\n",
    "from tqdm import tqdm\n",
    "\n",
    "import numpy as np\n",
    "\n",
    "import time\n",
    "import psycopg2"
   ]
  },
  {
   "cell_type": "code",
   "execution_count": 11,
   "id": "bf839bcd-f7bf-4838-bcbe-4a56e6e96427",
   "metadata": {
    "tags": []
   },
   "outputs": [],
   "source": [
    "def kp_get_recommends(query: str) -> bytes:\n",
    "    url = \"https://www.kinopoisk.ru/s/type/film/list/1/find/\"\n",
    "    response = requests.get(url + query)\n",
    "    if response.status_code == 200:\n",
    "        return response.content\n",
    "    else:\n",
    "        raise Exception(\n",
    "            f\"Bad status received!\\n\"\n",
    "            f\"Code: {response.status_code}\\n\"\n",
    "            f\"Content: {response.content}\"\n",
    "        )\n",
    "\n",
    "def get_film_details(content):\n",
    "    film_name = content.find(\"p\", {\"class\": \"name\"})\n",
    "    \n",
    "    film_a_entity = film_name.find(\"a\", {\"data-type\": [\"film\", \"series\"]})\n",
    "    film_span_entity = film_name.find(\"span\", {\"class\": \"year\"})\n",
    "    \n",
    "    film_info = content.find(\"span\", {\"class\": \"gray\"})\n",
    "    \n",
    "    gray_info = None if film_info is None else film_info.getText()\n",
    "    \n",
    "    minutes = None\n",
    "    if gray_info is not None:\n",
    "        gray_info = gray_info.strip()\n",
    "        if gray_info[-3:] == 'мин':\n",
    "            \n",
    "            if len(gray_info.split(', ')) == 1:  # only diration, no original name\n",
    "                original_name = ''                \n",
    "                minutes = gray_info.split(' ')[0]\n",
    "            else:  # case with original name and diration\n",
    "                original_name = ', '.join(gray_info.split(', ')[:-1])\n",
    "                minutes = gray_info.split(', ')[-1:][0].split(' ')[0]\n",
    "            \n",
    "        else:\n",
    "            original_name = gray_info # case with no duration and with or without original name\n",
    "            minutes = ''\n",
    "                \n",
    "    return {\n",
    "            'film_name': film_a_entity.getText().replace('\\xa0',' '),\n",
    "            'kinopoisk_id': film_a_entity[\"data-id\"],\n",
    "            'film_year': None if film_span_entity is None else film_span_entity.getText(),\n",
    "            'original_name': original_name.replace('\\xa0',' '),\n",
    "            'duration': minutes\n",
    "    }\n",
    "    \n",
    "    \n",
    "        \n",
    "def kp_parse_recommends(byte_response: bytes, cutoff) -> List[str]:\n",
    "    \n",
    "    result = []\n",
    "    soup = BeautifulSoup(byte_response.decode(\"UTF-8\"), 'html.parser')\n",
    "    \n",
    "    search_results_first = soup.find(\"div\", {\"class\": \"most_wanted\"})    \n",
    "    search_results_rest = soup.find(\"div\", {\"class\": \"search_results search_results_last\"})\n",
    "\n",
    "    if search_results_first is not None:\n",
    "        for f_ind, film in enumerate(search_results_first.find_all(\"div\", {\"class\": \"info\"})):\n",
    "            film_details = get_film_details(film)\n",
    "            film_details['position'] = f_ind + 1\n",
    "            result.append(film_details) \n",
    "\n",
    "    first_block = len(result)\n",
    "    \n",
    "    if search_results_rest is not None:\n",
    "        for r_ind, film in enumerate(search_results_rest.find_all(\"div\", {\"class\": \"info\"})):\n",
    "            film_details = get_film_details(film)\n",
    "            film_details['position'] = first_block + r_ind + 1\n",
    "            result.append(film_details) \n",
    "\n",
    "    if len(result) == 0:\n",
    "        # warnings.warn(\"kp recommendations is empty!\")\n",
    "        return None\n",
    "\n",
    "    return result[:cutoff]\n",
    "\n",
    "\n",
    "def kp_querying_pipeline(query: str, cutoff=10) -> List[str]:\n",
    "    raw_response = kp_get_recommends(query)\n",
    "    #print(raw_response)\n",
    "    return kp_parse_recommends(raw_response, cutoff=cutoff)"
   ]
  },
  {
   "cell_type": "code",
   "execution_count": 12,
   "id": "d7b573b9-f41d-474d-9963-2d37e2fb2fa6",
   "metadata": {
    "tags": []
   },
   "outputs": [],
   "source": [
    "#kp_querying_pipeline('карты деньги')"
   ]
  },
  {
   "cell_type": "code",
   "execution_count": 13,
   "id": "24132e99-bbf3-4004-b7c6-3f95951641f9",
   "metadata": {
    "tags": []
   },
   "outputs": [],
   "source": [
    "class GrabKinopoisk:\n",
    "    def __init__(\n",
    "        self,  \n",
    "        grab_func, \n",
    "        output_df_name, \n",
    "        chunk_size=500,        \n",
    "        items_per_query=10, \n",
    "        random_delay_delta = 0.5,\n",
    "        verbose=True\n",
    "    ):\n",
    "        self.chunk_size = chunk_size\n",
    "        self.grab_func = grab_func\n",
    "        self.output_df = output_df_name + '_{}' + '.csv'\n",
    "        self.items_per_query = items_per_query\n",
    "        self.random_delay_delta = random_delay_delta\n",
    "        self.verbose=True\n",
    "\n",
    "        \n",
    "    def __grab_query(self, query):\n",
    "        #res = self.grab_func(query)\n",
    "        delay = 0.5 + np.random.uniform(0, self.random_delay_delta)\n",
    "        time.sleep(delay)\n",
    "        # res = temp_res\n",
    "        res = self.grab_func(query)\n",
    "        if res is not None:\n",
    "            res_for_df = {\n",
    "                'query': [query] * len(res),\n",
    "                'title': [r['film_name'] for r in res],\n",
    "                'year' : [r['film_year'] for r in res],\n",
    "                'original_name': [r['original_name'] for r in res],\n",
    "                'kinopoisk_id': [r['kinopoisk_id'] for r in res],\n",
    "                'duration': [r['duration'] for r in res],\n",
    "                'position': [r['position'] for r in res],\n",
    "            }\n",
    "        else:\n",
    "            res_for_df = {\n",
    "                'query': [query],\n",
    "                'title': [''],\n",
    "                'year' : [''],\n",
    "                'original_name': [''],\n",
    "                'kinopoisk_id': [''],\n",
    "                'duration': [''],\n",
    "                'position': [''],\n",
    "            }\n",
    "\n",
    "            \n",
    "        return res_for_df\n",
    "\n",
    "    \n",
    "    def __grab_chunk(self, query_portion):\n",
    "        self.res_dict = {'query': [], \n",
    "                    'title': [], \n",
    "                    'year': [], \n",
    "                    'original_name': [], \n",
    "                    'kinopoisk_id': [], \n",
    "                    'duration': [], \n",
    "                    'position': [] \n",
    "                   }\n",
    "        for i, query in enumerate(query_portion):\n",
    "            res = self.__grab_query(query)\n",
    "            for k,v in res.items():\n",
    "                self.res_dict[k] += v\n",
    "\n",
    "            if (i % 10 == 0) and (self.verbose):\n",
    "                print(f'\\t{i}-th query: {query}')\n",
    "        \n",
    "        return pd.DataFrame(self.res_dict).sort_values(['query','position'])\n",
    "\n",
    "    \n",
    "    def grab_all(self, queries_series, stat_chunk_no=0, n_chunks_grab=None):\n",
    "        queries_n = len(queries_series)\n",
    "        n_chunks = queries_n // self.chunk_size + (1 if (queries_n % self.chunk_size > 0) else 0)\n",
    "        print(f'{queries_n=}')\n",
    "        print(f'{n_chunks=}')\n",
    "        \n",
    "        if n_chunks_grab:\n",
    "            end_chunks_no = min(stat_chunk_no + n_chunks_grab, n_chunks)\n",
    "        else:\n",
    "            end_chunks_no = n_chunks\n",
    "            \n",
    "        print(f'\\nfirst chunk: {stat_chunk_no}')\n",
    "        print(f' last chunk: {end_chunks_no}\\n')\n",
    " \n",
    "            \n",
    "        for i in range(stat_chunk_no, end_chunks_no):\n",
    "            if self.verbose:\n",
    "                print(f'{i}-th chunk:')\n",
    "            start_time = time.time()    \n",
    "            query_portion = queries_series[i*self.chunk_size: i*self.chunk_size + self.chunk_size]\n",
    "            self.chunk_df = self.__grab_chunk(query_portion)\n",
    "            chunk_df_name = self.output_df.format(i)\n",
    "            self.chunk_df.to_csv(chunk_df_name)\n",
    "            end_time = time.time() \n",
    "            if self.verbose:\n",
    "                print(f'\\t{chunk_df_name} saved')\n",
    "                print(f'\\ttime consumed: {int(end_time - start_time) // 60}:{int(end_time - start_time) % 60}')\n",
    "\n"
   ]
  },
  {
   "cell_type": "code",
   "execution_count": 14,
   "id": "91f6e91e-ae2b-42c5-b03b-aa2b955c6b1b",
   "metadata": {
    "tags": []
   },
   "outputs": [
    {
     "data": {
      "text/html": [
       "<div>\n",
       "<style scoped>\n",
       "    .dataframe tbody tr th:only-of-type {\n",
       "        vertical-align: middle;\n",
       "    }\n",
       "\n",
       "    .dataframe tbody tr th {\n",
       "        vertical-align: top;\n",
       "    }\n",
       "\n",
       "    .dataframe thead th {\n",
       "        text-align: right;\n",
       "    }\n",
       "</style>\n",
       "<table border=\"1\" class=\"dataframe\">\n",
       "  <thead>\n",
       "    <tr style=\"text-align: right;\">\n",
       "      <th></th>\n",
       "      <th>query</th>\n",
       "    </tr>\n",
       "  </thead>\n",
       "  <tbody>\n",
       "    <tr>\n",
       "      <th>0</th>\n",
       "      <td>13 воин</td>\n",
       "    </tr>\n",
       "    <tr>\n",
       "      <th>1</th>\n",
       "      <td>13 грехов</td>\n",
       "    </tr>\n",
       "    <tr>\n",
       "      <th>2</th>\n",
       "      <td>13 ж</td>\n",
       "    </tr>\n",
       "    <tr>\n",
       "      <th>3</th>\n",
       "      <td>13 жи</td>\n",
       "    </tr>\n",
       "    <tr>\n",
       "      <th>4</th>\n",
       "      <td>13 жиз</td>\n",
       "    </tr>\n",
       "  </tbody>\n",
       "</table>\n",
       "</div>"
      ],
      "text/plain": [
       "       query\n",
       "0    13 воин\n",
       "1  13 грехов\n",
       "2       13 ж\n",
       "3      13 жи\n",
       "4     13 жиз"
      ]
     },
     "execution_count": 14,
     "metadata": {},
     "output_type": "execute_result"
    }
   ],
   "source": [
    "queries_df = pd.read_csv('query_examples.csv', index_col=0)\n",
    "queries_df.head()"
   ]
  },
  {
   "cell_type": "code",
   "execution_count": 15,
   "id": "eedb8659-9cd0-44fb-b173-57332f8ea90c",
   "metadata": {
    "tags": []
   },
   "outputs": [
    {
     "data": {
      "text/plain": [
       "(300, 1)"
      ]
     },
     "execution_count": 15,
     "metadata": {},
     "output_type": "execute_result"
    }
   ],
   "source": [
    "queries_df.shape"
   ]
  },
  {
   "cell_type": "code",
   "execution_count": null,
   "id": "7dcf9a69-4c91-4397-be39-97b805373322",
   "metadata": {
    "tags": []
   },
   "outputs": [
    {
     "name": "stdout",
     "output_type": "stream",
     "text": [
      "queries_n=300\n",
      "n_chunks=6\n",
      "\n",
      "first chunk: 0\n",
      " last chunk: 6\n",
      "\n",
      "0-th chunk:\n",
      "\t0-th query: 13 воин\n",
      "\t10-th query: 13 карт\n",
      "\t20-th query: 13 п\n",
      "\t30-th query: 13 часов\n",
      "\t40-th query: 1612 хро\n",
      "\t./data/2023_04_07_kinopoisk_respond_0.csv saved\n",
      "\ttime consumed: 1:10\n",
      "1-th chunk:\n",
      "\t0-th query: 18 14\n",
      "\t10-th query: 191\n",
      "\t20-th query: 1995\n",
      "\t30-th query: 2 плюс 3 в пользу\n",
      "\t40-th query: 2001 a space travesty\n",
      "\t./data/2023_04_07_kinopoisk_respond_1.csv saved\n",
      "\ttime consumed: 1:20\n",
      "2-th chunk:\n",
      "\t0-th query: 2021 уб\n",
      "\t10-th query: 21 мост\n",
      "\t20-th query: 25 7\n",
      "\t30-th query: 3 000 желаниййй\n",
      "\t40-th query: 3 богатыря и ход у\n",
      "\t./data/2023_04_07_kinopoisk_respond_2.csv saved\n",
      "\ttime consumed: 1:10\n",
      "3-th chunk:\n",
      "\t0-th query: 3 м\n",
      "\t10-th query: 3 тысячи\n",
      "\t20-th query: 300 спар\n",
      "\t30-th query: 3000 ет\n",
      "\t40-th query: 309\n",
      "\t./data/2023_04_07_kinopoisk_respond_3.csv saved\n",
      "\ttime consumed: 1:9\n",
      "4-th chunk:\n",
      "\t0-th query: 365 д\n",
      "\t10-th query: 4 k ultra\n",
      "\t20-th query: 4 эшелон\n",
      "\t30-th query: 5 к\n",
      "\t40-th query: 5 минут тишины симбирские морозы 9 серия\n",
      "\t./data/2023_04_07_kinopoisk_respond_4.csv saved\n",
      "\ttime consumed: 1:12\n",
      "5-th chunk:\n",
      "\t0-th query: 50 отенков\n",
      "\t10-th query: 50 оттенков 3\n",
      "\t20-th query: 50 суток\n",
      "\t30-th query: 7 жи\n",
      "\t40-th query: 8 женщин\n",
      "\t./data/2023_04_07_kinopoisk_respond_5.csv saved\n",
      "\ttime consumed: 1:9\n"
     ]
    }
   ],
   "source": [
    "gk = GrabKinopoisk(\n",
    "    kp_querying_pipeline,\n",
    "    './data/2023_04_07_kinopoisk_respond',\n",
    "    chunk_size=50\n",
    ")\n",
    "\n",
    "gk.grab_all(\n",
    "    queries_df['query'], \n",
    "    stat_chunk_no=0, \n",
    "    n_chunks_grab=6\n",
    ")"
   ]
  },
  {
   "cell_type": "markdown",
   "id": "5f07fac4-d3eb-4ac0-8902-2dcf59d9b1e6",
   "metadata": {},
   "source": [
    "## Lab 2. Store data to postgres db"
   ]
  },
  {
   "cell_type": "code",
   "execution_count": 106,
   "id": "1c37ba81-e11c-436c-874c-a778dbca4ade",
   "metadata": {
    "tags": []
   },
   "outputs": [],
   "source": [
    "conn = psycopg2.connect(\n",
    "    host=\"db\",\n",
    "    database=\"db\",\n",
    "    user=\"postgres\",\n",
    "    port=\"5432\",\n",
    "    password=\"az_lab_db\")"
   ]
  },
  {
   "cell_type": "markdown",
   "id": "86869e41-0cd2-4ddc-82f3-76d4fcfbbc83",
   "metadata": {},
   "source": [
    "#### Create table of not exist"
   ]
  },
  {
   "cell_type": "code",
   "execution_count": 107,
   "id": "09c067b9-35fb-4e47-acb0-962403590fc4",
   "metadata": {
    "tags": []
   },
   "outputs": [
    {
     "name": "stdout",
     "output_type": "stream",
     "text": [
      "Executed:\n",
      "\t DROP TABLE IF EXISTS \"kinopoisk\"\n",
      "Executed:\n",
      "\t DROP SEQUENCE IF EXISTS kinopoisk_id_seq\n",
      "Executed:\n",
      "\t CREATE SEQUENCE kinopoisk_id_seq INCREMENT 1 MINVALUE 1 MAXVALUE 2147483647 CACHE 1\n",
      "Executed:\n",
      "\t CREATE TABLE public.kinopoisk (\n",
      "        \"id\" integer DEFAULT nextval('kinopoisk_id_seq') NOT NULL,\n",
      "        \"query\" character varying(80) NOT NULL,\n",
      "        \"title\" character varying(160) NOT NULL,\n",
      "        \"year\" character varying(36) NULL,\n",
      "        \"original_name\" character varying(160) NULL,\n",
      "        \"kinopoisk_id\" integer NULL,\n",
      "        \"duration\" character varying NULL,\n",
      "        \"position\" integer NULL,\n",
      "        CONSTRAINT \"kinopoisk_pkey\" PRIMARY KEY (\"id\")\n",
      "    ) WITH (oids = false);\n",
      "    \n"
     ]
    }
   ],
   "source": [
    "table_name = 'kinopoisk'\n",
    "create_table_sql = [\n",
    "    f'DROP TABLE IF EXISTS \"{table_name}\"',\n",
    "    f'DROP SEQUENCE IF EXISTS kinopoisk_id_seq',\n",
    "    f'CREATE SEQUENCE kinopoisk_id_seq INCREMENT 1 MINVALUE 1 MAXVALUE 2147483647 CACHE 1',\n",
    "    f\"\"\"CREATE TABLE public.{table_name} (\n",
    "        \"id\" integer DEFAULT nextval('kinopoisk_id_seq') NOT NULL,\n",
    "        \"query\" character varying(80) NOT NULL,\n",
    "        \"title\" character varying(160) NOT NULL,\n",
    "        \"year\" character varying(36) NULL,\n",
    "        \"original_name\" character varying(160) NULL,\n",
    "        \"kinopoisk_id\" integer NULL,\n",
    "        \"duration\" character varying NULL,\n",
    "        \"position\" integer NULL,\n",
    "        CONSTRAINT \"kinopoisk_pkey\" PRIMARY KEY (\"id\")\n",
    "    ) WITH (oids = false);\n",
    "    \"\"\"\n",
    "]\n",
    "\n",
    "cur = conn.cursor()\n",
    "for cmd in create_table_sql:\n",
    "    print('Executed:\\n\\t',cmd)\n",
    "    cur.execute(cmd)\n",
    "conn.commit()\n",
    "cur.close()"
   ]
  },
  {
   "cell_type": "markdown",
   "id": "dc0374b9-5926-455f-bf41-df27334da8b0",
   "metadata": {},
   "source": [
    "#### Inserting data to DB"
   ]
  },
  {
   "cell_type": "code",
   "execution_count": 108,
   "id": "135c0ae3-938e-4ea6-a227-8da84c1f2af1",
   "metadata": {
    "tags": []
   },
   "outputs": [],
   "source": [
    "sql_pattern = \"\"\"\n",
    "INSERT into kinopoisk (query, title, year, original_name, kinopoisk_id, duration, position)\n",
    "VALUES ('{}', '{}','{}','{}',{},'{}',{})\n",
    "\"\"\""
   ]
  },
  {
   "cell_type": "code",
   "execution_count": 109,
   "id": "96432750-63fe-4884-84b1-e9d975d94365",
   "metadata": {
    "tags": []
   },
   "outputs": [],
   "source": [
    "def save_df_to_db(df):\n",
    "    cur = conn.cursor()\n",
    "    for d in df.itertuples(index=False):\n",
    "\n",
    "        sql = sql_pattern.format(\n",
    "                d.query,\n",
    "                d.title,\n",
    "                d.year,\n",
    "                d.original_name,\n",
    "                int(d.kinopoisk_id),\n",
    "                d.duration,\n",
    "                int(d.position)\n",
    "        )\n",
    "        cur.execute(sql)\n",
    "        conn.commit()\n",
    "\n",
    "    cur.close()\n",
    "    \n",
    "def clear_df(df):\n",
    "    df['title'] = df['title'].str.replace(\"'\", '`')\n",
    "    df['original_name'] = df['original_name'].str.replace(\"'\", '`')\n",
    "    df['kinopoisk_id'] = df['kinopoisk_id'].fillna(0)\n",
    "    df['position'] = df['position'].fillna(0)    \n",
    "    return df\n"
   ]
  },
  {
   "cell_type": "code",
   "execution_count": 110,
   "id": "44cf8fd9-522b-4cdf-a716-89075bb63f8c",
   "metadata": {
    "tags": []
   },
   "outputs": [
    {
     "data": {
      "text/plain": [
       "[('2023_04_07_kinopoisk_respond_0.csv', 0),\n",
       " ('2023_04_07_kinopoisk_respond_1.csv', 1),\n",
       " ('2023_04_07_kinopoisk_respond_2.csv', 2),\n",
       " ('2023_04_07_kinopoisk_respond_3.csv', 3),\n",
       " ('2023_04_07_kinopoisk_respond_4.csv', 4),\n",
       " ('2023_04_07_kinopoisk_respond_5.csv', 5)]"
      ]
     },
     "execution_count": 110,
     "metadata": {},
     "output_type": "execute_result"
    }
   ],
   "source": [
    "fname_pattern = '2023_04_07_kinopoisk_respond'\n",
    "data_path = './data'\n",
    "dir_all = os.listdir(data_path)\n",
    "matched_files = [(f, int(f.split('.csv')[0].split('_')[-1])) for f in dir_all if f.startswith(fname_pattern)]\n",
    "matched_files = sorted(matched_files, key=lambda x: x[1])\n",
    "matched_files"
   ]
  },
  {
   "cell_type": "code",
   "execution_count": 111,
   "id": "53ed7c0a-259f-477f-9b8b-1b31d49f70eb",
   "metadata": {
    "tags": []
   },
   "outputs": [
    {
     "name": "stdout",
     "output_type": "stream",
     "text": [
      "processing `2023_04_07_kinopoisk_respond_0.csv` with shape = (385, 7)\n",
      "processing `2023_04_07_kinopoisk_respond_1.csv` with shape = (403, 7)\n",
      "processing `2023_04_07_kinopoisk_respond_2.csv` with shape = (322, 7)\n",
      "processing `2023_04_07_kinopoisk_respond_3.csv` with shape = (350, 7)\n",
      "processing `2023_04_07_kinopoisk_respond_4.csv` with shape = (357, 7)\n",
      "processing `2023_04_07_kinopoisk_respond_5.csv` with shape = (351, 7)\n"
     ]
    }
   ],
   "source": [
    "for csv_name, n in matched_files:\n",
    "    \n",
    "    df = pd.read_csv(data_path + '/' + csv_name, index_col=0)  \n",
    "    df = clear_df(df)\n",
    "    print(f'processing `{csv_name}` with shape = {df.shape}')\n",
    "    save_df_to_db(df)"
   ]
  },
  {
   "cell_type": "code",
   "execution_count": null,
   "id": "5c12559e-26a6-4fab-99c1-a9bddb298556",
   "metadata": {},
   "outputs": [],
   "source": [
    "cur = conn.cursor()\n",
    "cur.execute('select * from public.kinopoisk')\n",
    "record = cur.fetchall()\n",
    "print(\"Data from Database:- \", record)"
   ]
  },
  {
   "cell_type": "markdown",
   "id": "47da70e8-891d-415f-b36d-7d54a18a6934",
   "metadata": {},
   "source": [
    "#### Checking results"
   ]
  },
  {
   "cell_type": "code",
   "execution_count": 126,
   "id": "19bc1a82-3adb-45d7-8aaa-e7e58f6dd580",
   "metadata": {
    "tags": []
   },
   "outputs": [
    {
     "name": "stdout",
     "output_type": "stream",
     "text": [
      "df.shape = (2168, 7)\n"
     ]
    },
    {
     "data": {
      "text/html": [
       "<div>\n",
       "<style scoped>\n",
       "    .dataframe tbody tr th:only-of-type {\n",
       "        vertical-align: middle;\n",
       "    }\n",
       "\n",
       "    .dataframe tbody tr th {\n",
       "        vertical-align: top;\n",
       "    }\n",
       "\n",
       "    .dataframe thead th {\n",
       "        text-align: right;\n",
       "    }\n",
       "</style>\n",
       "<table border=\"1\" class=\"dataframe\">\n",
       "  <thead>\n",
       "    <tr style=\"text-align: right;\">\n",
       "      <th></th>\n",
       "      <th>query</th>\n",
       "      <th>title</th>\n",
       "      <th>year</th>\n",
       "      <th>original_name</th>\n",
       "      <th>kinopoisk_id</th>\n",
       "      <th>duration</th>\n",
       "      <th>position</th>\n",
       "    </tr>\n",
       "  </thead>\n",
       "  <tbody>\n",
       "    <tr>\n",
       "      <th>1</th>\n",
       "      <td>13 воин</td>\n",
       "      <td>13-й воин</td>\n",
       "      <td>1999</td>\n",
       "      <td>The 13th Warrior</td>\n",
       "      <td>10273</td>\n",
       "      <td>102.0</td>\n",
       "      <td>1</td>\n",
       "    </tr>\n",
       "    <tr>\n",
       "      <th>2</th>\n",
       "      <td>13 воин</td>\n",
       "      <td>13 убийц</td>\n",
       "      <td>2010</td>\n",
       "      <td>Jusan-nin no shikaku</td>\n",
       "      <td>466582</td>\n",
       "      <td>141.0</td>\n",
       "      <td>2</td>\n",
       "    </tr>\n",
       "    <tr>\n",
       "      <th>3</th>\n",
       "      <td>13 воин</td>\n",
       "      <td>Хоббит: Битва пяти воинств</td>\n",
       "      <td>2014</td>\n",
       "      <td>The Hobbit: The Battle of the Five Armies</td>\n",
       "      <td>694633</td>\n",
       "      <td>144.0</td>\n",
       "      <td>3</td>\n",
       "    </tr>\n",
       "    <tr>\n",
       "      <th>4</th>\n",
       "      <td>13 воин</td>\n",
       "      <td>Легенда о Коловрате</td>\n",
       "      <td>2017</td>\n",
       "      <td>nan</td>\n",
       "      <td>844118</td>\n",
       "      <td>117.0</td>\n",
       "      <td>4</td>\n",
       "    </tr>\n",
       "    <tr>\n",
       "      <th>5</th>\n",
       "      <td>13 воин</td>\n",
       "      <td>Солдаты 13 (сериал)</td>\n",
       "      <td>2007</td>\n",
       "      <td>nan</td>\n",
       "      <td>542481</td>\n",
       "      <td>44.0</td>\n",
       "      <td>5</td>\n",
       "    </tr>\n",
       "    <tr>\n",
       "      <th>6</th>\n",
       "      <td>13 воин</td>\n",
       "      <td>Дружина (сериал)</td>\n",
       "      <td>2015</td>\n",
       "      <td>nan</td>\n",
       "      <td>840738</td>\n",
       "      <td>90.0</td>\n",
       "      <td>6</td>\n",
       "    </tr>\n",
       "    <tr>\n",
       "      <th>7</th>\n",
       "      <td>13 воин</td>\n",
       "      <td>Хоббит: Нежданное путешествие</td>\n",
       "      <td>2012</td>\n",
       "      <td>The Hobbit: An Unexpected Journey</td>\n",
       "      <td>278522</td>\n",
       "      <td>169.0</td>\n",
       "      <td>7</td>\n",
       "    </tr>\n",
       "    <tr>\n",
       "      <th>8</th>\n",
       "      <td>13 воин</td>\n",
       "      <td>Храброе сердце</td>\n",
       "      <td>1995</td>\n",
       "      <td>Braveheart</td>\n",
       "      <td>399</td>\n",
       "      <td>178.0</td>\n",
       "      <td>8</td>\n",
       "    </tr>\n",
       "    <tr>\n",
       "      <th>9</th>\n",
       "      <td>13 воин</td>\n",
       "      <td>Брат воина</td>\n",
       "      <td>2002</td>\n",
       "      <td>Le frère du guerrier</td>\n",
       "      <td>51490</td>\n",
       "      <td>115.0</td>\n",
       "      <td>9</td>\n",
       "    </tr>\n",
       "    <tr>\n",
       "      <th>10</th>\n",
       "      <td>13 воин</td>\n",
       "      <td>Золотая орда (сериал)</td>\n",
       "      <td>2018 – ...</td>\n",
       "      <td>nan</td>\n",
       "      <td>780307</td>\n",
       "      <td>nan</td>\n",
       "      <td>10</td>\n",
       "    </tr>\n",
       "  </tbody>\n",
       "</table>\n",
       "</div>"
      ],
      "text/plain": [
       "      query                          title        year   \n",
       "1   13 воин                      13-й воин        1999  \\\n",
       "2   13 воин                       13 убийц        2010   \n",
       "3   13 воин     Хоббит: Битва пяти воинств        2014   \n",
       "4   13 воин            Легенда о Коловрате        2017   \n",
       "5   13 воин            Солдаты 13 (сериал)        2007   \n",
       "6   13 воин               Дружина (сериал)        2015   \n",
       "7   13 воин  Хоббит: Нежданное путешествие        2012   \n",
       "8   13 воин                 Храброе сердце        1995   \n",
       "9   13 воин                     Брат воина        2002   \n",
       "10  13 воин          Золотая орда (сериал)  2018 – ...   \n",
       "\n",
       "                                original_name  kinopoisk_id duration  position  \n",
       "1                            The 13th Warrior         10273    102.0         1  \n",
       "2                        Jusan-nin no shikaku        466582    141.0         2  \n",
       "3   The Hobbit: The Battle of the Five Armies        694633    144.0         3  \n",
       "4                                         nan        844118    117.0         4  \n",
       "5                                         nan        542481     44.0         5  \n",
       "6                                         nan        840738     90.0         6  \n",
       "7           The Hobbit: An Unexpected Journey        278522    169.0         7  \n",
       "8                                  Braveheart           399    178.0         8  \n",
       "9                        Le frère du guerrier         51490    115.0         9  \n",
       "10                                        nan        780307      nan        10  "
      ]
     },
     "execution_count": 126,
     "metadata": {},
     "output_type": "execute_result"
    }
   ],
   "source": [
    "cur = conn.cursor()\n",
    "cur.execute('select * from public.kinopoisk')\n",
    "records = cur.fetchall()\n",
    "#print(\"Data from Database:- \", record)\n",
    "data_ind = {'id': [row[0] for row in records],}\n",
    "data = {\n",
    "    \n",
    "    'query': [row[1] for row in records],\n",
    "    'title': [row[2] for row in records],\n",
    "    'year': [row[3] for row in records],\n",
    "    'original_name': [row[4] for row in records],\n",
    "    'kinopoisk_id': [row[5] for row in records],\n",
    "    'duration': [row[6] for row in records],\n",
    "    'position': [row[7] for row in records],\n",
    "}\n",
    "df = pd.DataFrame(data, index=data_ind['id'])\n",
    "print(f'{df.shape = }')\n",
    "df.head(10)"
   ]
  },
  {
   "cell_type": "code",
   "execution_count": null,
   "id": "d2b06135-3f73-49e6-8a54-d2a45b6dc9ee",
   "metadata": {},
   "outputs": [],
   "source": []
  }
 ],
 "metadata": {
  "kernelspec": {
   "display_name": "Python 3 (ipykernel)",
   "language": "python",
   "name": "python3"
  },
  "language_info": {
   "codemirror_mode": {
    "name": "ipython",
    "version": 3
   },
   "file_extension": ".py",
   "mimetype": "text/x-python",
   "name": "python",
   "nbconvert_exporter": "python",
   "pygments_lexer": "ipython3",
   "version": "3.10.9"
  }
 },
 "nbformat": 4,
 "nbformat_minor": 5
}
